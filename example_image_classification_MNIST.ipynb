{
 "cells": [
  {
   "cell_type": "markdown",
   "metadata": {},
   "source": [
    "![alt text](header.png \"KI Basiskurs\")"
   ]
  },
  {
   "cell_type": "markdown",
   "metadata": {},
   "source": [
    "# KI Basiskurs: Beispiel zu einer einfachen Bildklassifizierung"
   ]
  },
  {
   "cell_type": "markdown",
   "metadata": {},
   "source": [
    "In diesem Beispiel werden wir ein einfaches Beispiel in der Sprach PYTHON gemeinsam durchgehen. Die folgenden Schritte passieren in diesem Programmcode:\n",
    "- Importieren aller notwendigen Programmteile\n",
    "- Laden der Beispieldaten\n",
    "- Anzeige der Anzahl der Samples\n",
    "- Anzeige von Beispielen der Daten\n",
    "- Vorbereitung der Daten für die Klassifizierung\n",
    "- Erstellen eines leeren Modelle\n",
    "- Training des Modelles\n",
    "- Test"
   ]
  },
  {
   "cell_type": "markdown",
   "metadata": {},
   "source": [
    "Quelle: [https://machinelearningmastery.com/how-to-develop-a-convolutional-neural-network-from-scratch-for-mnist-handwritten-digit-classification/]"
   ]
  },
  {
   "cell_type": "code",
   "execution_count": null,
   "metadata": {},
   "outputs": [],
   "source": []
  },
  {
   "cell_type": "code",
   "execution_count": 55,
   "metadata": {},
   "outputs": [],
   "source": [
    "# Importieren aller notwendigen Programmteile\n",
    "from keras.datasets import mnist\n",
    "from keras.utils import to_categorical\n",
    "from keras.models import Sequential\n",
    "from keras.layers import Conv2D\n",
    "from keras.layers import MaxPooling2D\n",
    "from keras.layers import Dense\n",
    "from keras.layers import Flatten\n",
    "from keras.optimizers import SGD\n",
    "\n",
    "import matplotlib.pyplot as plt\n",
    "%matplotlib inline"
   ]
  },
  {
   "cell_type": "code",
   "execution_count": 56,
   "metadata": {},
   "outputs": [],
   "source": [
    "# Laden der Beispieldaten (hier sehr vereinfacht) und Aufteilung in Trainings- und Testdaten\n",
    "(trainX, trainY), (testX, testY) = mnist.load_data()\n"
   ]
  },
  {
   "cell_type": "code",
   "execution_count": 57,
   "metadata": {},
   "outputs": [
    {
     "name": "stdout",
     "output_type": "stream",
     "text": [
      "Trainingsdaten: X=(60000, 28, 28), y=(60000,)\n",
      "Testdaten: X=(10000, 28, 28), y=(10000,)\n"
     ]
    }
   ],
   "source": [
    "# Anzeige der Anzahl der Samples\n",
    "print('Trainingsdaten: X=%s, y=%s' % (trainX.shape, trainY.shape))\n",
    "print('Testdaten: X=%s, y=%s' % (testX.shape, testY.shape))\n"
   ]
  },
  {
   "cell_type": "markdown",
   "metadata": {},
   "source": [
    "## Anzeige der Anzahl der Samples"
   ]
  },
  {
   "cell_type": "code",
   "execution_count": 58,
   "metadata": {},
   "outputs": [
    {
     "data": {
      "image/png": "[encoded data removed]",
      "text/plain": [
       "<Figure size 432x288 with 9 Axes>"
      ]
     },
     "metadata": {
      "needs_background": "light"
     },
     "output_type": "display_data"
    }
   ],
   "source": [
    "# Anzeige von Beispielen der Daten\n",
    "for i in range(9):\n",
    "    plt.subplot(330 + 1 + i)\n",
    "    plt.imshow(trainX[i], cmap=pyplot.get_cmap('gray'))\n",
    "plt.show()\n"
   ]
  },
  {
   "cell_type": "code",
   "execution_count": null,
   "metadata": {},
   "outputs": [],
   "source": []
  },
  {
   "cell_type": "markdown",
   "metadata": {},
   "source": [
    "## Vorbereitung der Daten"
   ]
  },
  {
   "cell_type": "code",
   "execution_count": 59,
   "metadata": {},
   "outputs": [],
   "source": [
    "# Ändere die Matrixform der Daten\n",
    "trainX = trainX.reshape((trainX.shape[0], 28, 28, 1))\n",
    "testX = testX.reshape((testX.shape[0], 28, 28, 1))\n"
   ]
  },
  {
   "cell_type": "code",
   "execution_count": 60,
   "metadata": {},
   "outputs": [],
   "source": [
    "# Ändere Pixelwerte von 0..255 auf einen Wert zwischen 0 und 1 in Flieskommaform\n",
    "trainX = trainX.astype('float32')\n",
    "testX = testX.astype('float32')\n",
    "trainX = trainX / 255.0\n",
    "testX = testX / 255.0\n"
   ]
  },
  {
   "cell_type": "code",
   "execution_count": 61,
   "metadata": {},
   "outputs": [],
   "source": [
    "# Ändere die Zielwerte für die Klassifizierung (eine Vektorstelle pro Klasse)\n",
    "trainY = to_categorical(trainY)\n",
    "testY = to_categorical(testY)\n"
   ]
  },
  {
   "cell_type": "markdown",
   "metadata": {},
   "source": [
    "## Erstellen eines leeren Modelles"
   ]
  },
  {
   "cell_type": "code",
   "execution_count": 62,
   "metadata": {},
   "outputs": [],
   "source": [
    "model = Sequential()\n",
    "model.add(Conv2D(32, (3, 3), activation='relu', kernel_initializer='he_uniform', input_shape=(28, 28, 1)))\n",
    "model.add(MaxPooling2D((2, 2)))\n",
    "model.add(Conv2D(64, (3, 3), activation='relu', kernel_initializer='he_uniform'))\n",
    "model.add(Conv2D(64, (3, 3), activation='relu', kernel_initializer='he_uniform'))\n",
    "model.add(MaxPooling2D((2, 2)))\n",
    "model.add(Flatten())\n",
    "model.add(Dense(100, activation='relu', kernel_initializer='he_uniform'))\n",
    "model.add(Dense(10, activation='softmax'))\n",
    "# compile model\n",
    "opt = SGD(lr=0.01, momentum=0.9)\n",
    "model.compile(optimizer=opt, loss='categorical_crossentropy', metrics=['accuracy'])\n"
   ]
  },
  {
   "cell_type": "markdown",
   "metadata": {},
   "source": [
    "## Training des Modelles"
   ]
  },
  {
   "cell_type": "code",
   "execution_count": 63,
   "metadata": {},
   "outputs": [
    {
     "name": "stdout",
     "output_type": "stream",
     "text": [
      "Train on 60000 samples, validate on 10000 samples\n",
      "Epoch 1/2\n",
      "60000/60000 [==============================] - 35s 582us/step - loss: 0.1470 - accuracy: 0.9540 - val_loss: 0.0554 - val_accuracy: 0.9824\n",
      "Epoch 2/2\n",
      "60000/60000 [==============================] - 36s 596us/step - loss: 0.0513 - accuracy: 0.9840 - val_loss: 0.0449 - val_accuracy: 0.9858\n"
     ]
    },
    {
     "data": {
      "text/plain": [
       "<keras.callbacks.callbacks.History at 0x13318edd8>"
      ]
     },
     "execution_count": 63,
     "metadata": {},
     "output_type": "execute_result"
    }
   ],
   "source": [
    "model.fit(trainX, trainY, epochs=2, batch_size=64, validation_data=(testX, testY), verbose=1)\n"
   ]
  },
  {
   "cell_type": "code",
   "execution_count": 64,
   "metadata": {},
   "outputs": [
    {
     "name": "stdout",
     "output_type": "stream",
     "text": [
      "98.58% Accuracy\n"
     ]
    }
   ],
   "source": [
    "_, acc = model.evaluate(testX, testY, verbose=0)\n",
    "print('%.2f%% Accuracy' % (acc * 100.0))"
   ]
  },
  {
   "cell_type": "code",
   "execution_count": null,
   "metadata": {},
   "outputs": [],
   "source": []
  },
  {
   "cell_type": "markdown",
   "metadata": {},
   "source": [
    "## Testen mit Beispielen aus den Testdaten die fehlschlagen"
   ]
  },
  {
   "cell_type": "code",
   "execution_count": 65,
   "metadata": {},
   "outputs": [
    {
     "data": {
      "image/png": "[encoded data removed]",
      "text/plain": [
       "<Figure size 432x288 with 9 Axes>"
      ]
     },
     "metadata": {
      "needs_background": "light"
     },
     "output_type": "display_data"
    }
   ],
   "source": [
    "# Anzeige von Beispielen der Daten\n",
    "from numpy import argmax\n",
    "\n",
    "plotCount = 0\n",
    "fig = plt.figure()\n",
    "fig.suptitle('Predicted vs True Class')\n",
    "\n",
    "for i in range(testX.shape[0]):\n",
    "    \n",
    "    correctClass = argmax(testY[i])\n",
    "    image = testX[i].reshape((1,28,28,1))\n",
    "    prediction = model.predict_classes([image])\n",
    "    predictedClass = prediction[0]\n",
    "    \n",
    "    \n",
    "    if predictedClass != correctClass:\n",
    "        ax = pyplot.subplot(330 + 1 + plotCount)\n",
    "        ax.set_title('{}!={}'.format ( str(predictedClass), str(correctClass)))     \n",
    "        image = testX[i].reshape((28,28))\n",
    "        plt.imshow(image, cmap=pyplot.get_cmap('gray'))    \n",
    "        plotCount+= 1\n",
    "        \n",
    "    if plotCount >= 9:\n",
    "        break\n",
    "\n",
    "plt.subplots_adjust(wspace=0.4,hspace=0.4)\n",
    "plt.show()\n"
   ]
  },
  {
   "cell_type": "markdown",
   "metadata": {},
   "source": [
    "## Testen mit einem eigenen Beispielfile"
   ]
  },
  {
   "cell_type": "code",
   "execution_count": 66,
   "metadata": {},
   "outputs": [],
   "source": [
    "# Laden weiterer Funktionen\n",
    "from keras.preprocessing.image import load_img\n",
    "from keras.preprocessing.image import img_to_array"
   ]
  },
  {
   "cell_type": "code",
   "execution_count": 67,
   "metadata": {},
   "outputs": [],
   "source": [
    "# Funktion für das Laden eines Bildes aus einer Datei\n",
    "def load_image(filename):\n",
    "    # load the image\n",
    "    img = load_img(filename, grayscale=True, target_size=(28, 28))\n",
    "    # convert to array\n",
    "    img = img_to_array(img)\n",
    "    # reshape into a single sample with 1 channel\n",
    "    img = img.reshape(1, 28, 28, 1)\n",
    "    # prepare pixel data\n",
    "    img = img.astype('float32')\n",
    "    img = img / 255.0\n",
    "    return img"
   ]
  },
  {
   "cell_type": "code",
   "execution_count": null,
   "metadata": {},
   "outputs": [],
   "source": []
  },
  {
   "cell_type": "code",
   "execution_count": null,
   "metadata": {},
   "outputs": [],
   "source": []
  }
 ],
 "metadata": {
  "kernelspec": {
   "display_name": "Python 3",
   "language": "python",
   "name": "python3"
  },
  "language_info": {
   "codemirror_mode": {
    "name": "ipython",
    "version": 3
   },
   "file_extension": ".py",
   "mimetype": "text/x-python",
   "name": "python",
   "nbconvert_exporter": "python",
   "pygments_lexer": "ipython3",
   "version": "3.7.4"
  }
 },
 "nbformat": 4,
 "nbformat_minor": 4
}
